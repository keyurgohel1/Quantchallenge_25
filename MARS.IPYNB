{
 "cells": [
  {
   "cell_type": "code",
   "execution_count": 7,
   "id": "5c67e4a0",
   "metadata": {},
   "outputs": [
    {
     "ename": "ModuleNotFoundError",
     "evalue": "No module named 'pyearth'",
     "output_type": "error",
     "traceback": [
      "\u001b[31m---------------------------------------------------------------------------\u001b[39m",
      "\u001b[31mModuleNotFoundError\u001b[39m                       Traceback (most recent call last)",
      "\u001b[36mCell\u001b[39m\u001b[36m \u001b[39m\u001b[32mIn[7]\u001b[39m\u001b[32m, line 4\u001b[39m\n\u001b[32m      2\u001b[39m \u001b[38;5;28;01mimport\u001b[39;00m\u001b[38;5;250m \u001b[39m\u001b[34;01mpandas\u001b[39;00m\u001b[38;5;250m \u001b[39m\u001b[38;5;28;01mas\u001b[39;00m\u001b[38;5;250m \u001b[39m\u001b[34;01mpd\u001b[39;00m\n\u001b[32m      3\u001b[39m \u001b[38;5;28;01mfrom\u001b[39;00m\u001b[38;5;250m \u001b[39m\u001b[34;01msklearn\u001b[39;00m\u001b[34;01m.\u001b[39;00m\u001b[34;01mmodel_selection\u001b[39;00m\u001b[38;5;250m \u001b[39m\u001b[38;5;28;01mimport\u001b[39;00m train_test_split\n\u001b[32m----> \u001b[39m\u001b[32m4\u001b[39m \u001b[38;5;28;01mfrom\u001b[39;00m\u001b[38;5;250m \u001b[39m\u001b[34;01mpyearth\u001b[39;00m\u001b[38;5;250m \u001b[39m\u001b[38;5;28;01mimport\u001b[39;00m Earth\n\u001b[32m      5\u001b[39m \u001b[38;5;28;01mfrom\u001b[39;00m\u001b[38;5;250m \u001b[39m\u001b[34;01msklearn\u001b[39;00m\u001b[34;01m.\u001b[39;00m\u001b[34;01mmodel_selection\u001b[39;00m\u001b[38;5;250m \u001b[39m\u001b[38;5;28;01mimport\u001b[39;00m ParameterGrid\n\u001b[32m      6\u001b[39m \u001b[38;5;28;01mfrom\u001b[39;00m\u001b[38;5;250m \u001b[39m\u001b[34;01msklearn\u001b[39;00m\u001b[34;01m.\u001b[39;00m\u001b[34;01mmetrics\u001b[39;00m\u001b[38;5;250m \u001b[39m\u001b[38;5;28;01mimport\u001b[39;00m r2_score\n",
      "\u001b[31mModuleNotFoundError\u001b[39m: No module named 'pyearth'"
     ]
    }
   ],
   "source": [
    "import numpy as np\n",
    "import pandas as pd\n",
    "from sklearn.model_selection import train_test_split\n",
    "from pyearth import Earth\n",
    "from sklearn.model_selection import ParameterGrid\n",
    "from sklearn.metrics import r2_score\n",
    "import joblib\n"
   ]
  },
  {
   "cell_type": "code",
   "execution_count": 2,
   "id": "d7121d10",
   "metadata": {},
   "outputs": [],
   "source": [
    "df1 = pd.read_csv('C:\\\\Users\\\\sword\\\\OneDrive - The University of Melbourne\\\\Desktop\\\\Quantchallenge\\\\Quantchallenge_25\\\\Data\\\\train.csv')\n",
    "df2 = pd.read_csv('C:\\\\Users\\\\sword\\\\OneDrive - The University of Melbourne\\\\Desktop\\\\Quantchallenge\\\\Quantchallenge_25\\\\Data\\\\train_new.csv')\n",
    "merged = pd.concat([df1, df2], axis = 1)\n",
    "new_order = ['time','A', 'B', 'C', 'D', 'E', 'F', 'G', 'H', 'I', 'J', 'K', 'L', 'M', 'N', 'O', 'P', 'Y1', 'Y2']\n",
    "df_train = merged[new_order]"
   ]
  },
  {
   "cell_type": "code",
   "execution_count": 3,
   "id": "0f39c565",
   "metadata": {},
   "outputs": [],
   "source": [
    "df1_test = pd.read_csv('C:\\\\Users\\\\sword\\\\OneDrive - The University of Melbourne\\\\Desktop\\\\Quantchallenge\\\\Quantchallenge_25\\\\Data\\\\test.csv')\n",
    "df2_test = pd.read_csv('C:\\\\Users\\\\sword\\\\OneDrive - The University of Melbourne\\\\Desktop\\\\Quantchallenge\\\\Quantchallenge_25\\\\Data\\\\test_new.csv')\n",
    "merged_test = pd.concat([df1_test, df2_test], axis = 1)\n",
    "new_order_test = ['time','A', 'B', 'C', 'D', 'E', 'F', 'G', 'H', 'I', 'J', 'K', 'L', 'M', 'N', 'O', 'P']\n",
    "df_test = merged_test[new_order_test]"
   ]
  }
 ],
 "metadata": {
  "kernelspec": {
   "display_name": "Quantchallenge_25",
   "language": "python",
   "name": "python3"
  },
  "language_info": {
   "codemirror_mode": {
    "name": "ipython",
    "version": 3
   },
   "file_extension": ".py",
   "mimetype": "text/x-python",
   "name": "python",
   "nbconvert_exporter": "python",
   "pygments_lexer": "ipython3",
   "version": "3.13.7"
  }
 },
 "nbformat": 4,
 "nbformat_minor": 5
}
